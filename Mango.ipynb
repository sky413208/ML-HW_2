{
  "nbformat": 4,
  "nbformat_minor": 0,
  "metadata": {
    "colab": {
      "name": "Mango.ipynb",
      "provenance": [],
      "collapsed_sections": []
    },
    "kernelspec": {
      "name": "python3",
      "display_name": "Python 3"
    },
    "language_info": {
      "name": "python"
    },
    "accelerator": "GPU"
  },
  "cells": [
    {
      "cell_type": "code",
      "metadata": {
        "colab": {
          "base_uri": "https://localhost:8080/"
        },
        "id": "qO_6fC_lAIZx",
        "outputId": "4e5af943-d974-4d18-ffed-0b8ceb251846"
      },
      "source": [
        "!nvidia-smi"
      ],
      "execution_count": 6,
      "outputs": [
        {
          "output_type": "stream",
          "text": [
            "Sun May  2 07:28:04 2021       \n",
            "+-----------------------------------------------------------------------------+\n",
            "| NVIDIA-SMI 465.19.01    Driver Version: 460.32.03    CUDA Version: 11.2     |\n",
            "|-------------------------------+----------------------+----------------------+\n",
            "| GPU  Name        Persistence-M| Bus-Id        Disp.A | Volatile Uncorr. ECC |\n",
            "| Fan  Temp  Perf  Pwr:Usage/Cap|         Memory-Usage | GPU-Util  Compute M. |\n",
            "|                               |                      |               MIG M. |\n",
            "|===============================+======================+======================|\n",
            "|   0  Tesla T4            Off  | 00000000:00:04.0 Off |                    0 |\n",
            "| N/A   47C    P0    28W /  70W |   2884MiB / 15109MiB |      1%      Default |\n",
            "|                               |                      |                  N/A |\n",
            "+-------------------------------+----------------------+----------------------+\n",
            "                                                                               \n",
            "+-----------------------------------------------------------------------------+\n",
            "| Processes:                                                                  |\n",
            "|  GPU   GI   CI        PID   Type   Process name                  GPU Memory |\n",
            "|        ID   ID                                                   Usage      |\n",
            "|=============================================================================|\n",
            "+-----------------------------------------------------------------------------+\n"
          ],
          "name": "stdout"
        }
      ]
    },
    {
      "cell_type": "code",
      "metadata": {
        "colab": {
          "base_uri": "https://localhost:8080/"
        },
        "id": "8S1BQh8a3zno",
        "outputId": "650e8499-07ae-4d9f-b900-acbc45a33fd5"
      },
      "source": [
        "from platform import python_version\n",
        "import os\n",
        "import shutil\n",
        "import numpy as np\n",
        "import pandas as pd\n",
        "import PIL.Image\n",
        "from matplotlib import pyplot as plt\n",
        "from matplotlib.font_manager import findfont, FontProperties\n",
        "import zipfile\n",
        "import shutil\n",
        "from platform import python_version\n",
        "import cv2\n",
        "from google.colab import drive\n",
        "from google.colab import files\n",
        "import tensorflow as tf\n",
        "from tensorflow import keras\n",
        "import pylab\n",
        "from google.colab.patches import cv2_imshow\n",
        "import csv\n",
        "from sklearn.preprocessing import LabelEncoder\n",
        "\n",
        "os.chdir(\"/content/drive/MyDrive/DATA\")\n",
        "mango_train = pd.read_csv('/content/drive/MyDrive/DATA/train.csv')\n",
        "print(mango_train)"
      ],
      "execution_count": 2,
      "outputs": [
        {
          "output_type": "stream",
          "text": [
            "       image_id label\n",
            "0     00002.jpg     C\n",
            "1     00003.jpg     C\n",
            "2     00004.jpg     B\n",
            "3     00005.jpg     A\n",
            "4     00007.jpg     A\n",
            "...         ...   ...\n",
            "6125  07681.jpg     B\n",
            "6126  07682.jpg     C\n",
            "6127  07683.jpg     A\n",
            "6128  07684.jpg     C\n",
            "6129  07685.jpg     A\n",
            "\n",
            "[6130 rows x 2 columns]\n"
          ],
          "name": "stdout"
        }
      ]
    },
    {
      "cell_type": "code",
      "metadata": {
        "colab": {
          "base_uri": "https://localhost:8080/",
          "height": 279
        },
        "id": "gOzKbXOMFspN",
        "outputId": "d34e7fbf-98b6-4b3e-faa3-c3176ac7c199"
      },
      "source": [
        "train_data = os.listdir('/content/drive/MyDrive/DATA/Train_Image')\n",
        "\n",
        "\n",
        "\n",
        "train_data.sort(key=lambda x:int(x[0:5]))\n",
        "del train_data[5266]\n",
        "del train_data[5267]\n",
        "del train_data[5268]\n",
        "del train_data[5269]\n",
        "del train_data[5270]\n",
        "del train_data[5271]\n",
        "del train_data[5272]\n",
        "del train_data[5273]\n",
        "del train_data[5274]\n",
        "del train_data[5275]\n",
        "\n",
        "\n",
        "\n",
        "\n",
        "train_target = mango_train['label']\n",
        "\n",
        "train = pd.DataFrame({'picture_name':train_data})\n",
        "train['label'] = train_target\n",
        "train['path'] = train['picture_name']\n",
        "\n",
        "labelencoder = LabelEncoder() \n",
        "train['label'] = labelencoder.fit_transform(train['label'])\n",
        "\n",
        "train\n",
        "train['label'].value_counts().plot.bar()"
      ],
      "execution_count": 3,
      "outputs": [
        {
          "output_type": "execute_result",
          "data": {
            "text/plain": [
              "<matplotlib.axes._subplots.AxesSubplot at 0x7f4c5ae9b590>"
            ]
          },
          "metadata": {
            "tags": []
          },
          "execution_count": 3
        },
        {
          "output_type": "display_data",
          "data": {
            "image/png": "[encoded data removed]",
            "text/plain": [
              "<Figure size 432x288 with 1 Axes>"
            ]
          },
          "metadata": {
            "tags": [],
            "needs_background": "light"
          }
        }
      ]
    },
    {
      "cell_type": "code",
      "metadata": {
        "colab": {
          "base_uri": "https://localhost:8080/",
          "height": 1000
        },
        "id": "GBXkGQR4JW5Z",
        "outputId": "a15bf6a5-d1db-4386-90dc-4be0b5b268e1"
      },
      "source": [
        "from keras import models\n",
        "from keras.utils import np_utils\n",
        "from keras.utils.np_utils import to_categorical\n",
        "from sklearn.preprocessing import LabelEncoder\n",
        "from sklearn.preprocessing import OneHotEncoder\n",
        "from keras.utils import plot_model\n",
        "import tensorflow as tf\n",
        "from tensorflow.keras.preprocessing.image import load_img, ImageDataGenerator\n",
        "from tensorflow.keras.models import Sequential, load_model\n",
        "from tensorflow.keras.layers import Conv2D, MaxPooling2D, Flatten, Dense, Dropout  \n",
        "from tensorflow.keras.optimizers import *\n",
        "\n",
        "'''\n",
        "Image_Size = ( 50, 50 )\n",
        "Epochs = 50\n",
        "Batch_Size = 8\n",
        "'''\n",
        "CNN = Sequential( name = 'CNN_Model' )\n",
        "CNN.add( Conv2D( 32, activation='relu' , kernel_size = (3,3),input_shape = (100,100,3), name = 'Convolution' ) )\n",
        "CNN.add( MaxPooling2D( pool_size = (2,2), name = 'Pooling' ) )\n",
        "CNN.add( Conv2D( 64, kernel_size = (3,3), name = 'Convolution2' ) )\n",
        "CNN.add( MaxPooling2D( pool_size = (2,2), name = 'Pooling2' ) )\n",
        "CNN.add( Conv2D( 128, kernel_size = (3,3), name = 'Convolution3' ) )\n",
        "CNN.add( MaxPooling2D( pool_size = (2,2), name = 'Pooling3' ) )\n",
        "CNN.add( Flatten( name = 'Flatten' ) )\n",
        "CNN.add( Dropout( 0.5, name = 'Dropout_1' ) )\n",
        "CNN.add( Dense(256, activation = 'relu', name = 'Dense' ) )\n",
        "CNN.add( Dense( 3, activation = 'softmax', name = 'Dense2' ) )\n",
        "CNN.compile( optimizer = Adam(),loss = 'sparse_categorical_crossentropy',metrics = ['accuracy'] )\n",
        "\n",
        "CNN.summary()\n",
        "\n",
        "\n",
        "\n",
        "\n",
        "\n",
        "\n",
        "CNN.save(\"chinese_mod\")\n",
        "plot_model(CNN, to_file='model.png')"
      ],
      "execution_count": 4,
      "outputs": [
        {
          "output_type": "stream",
          "text": [
            "Model: \"CNN_Model\"\n",
            "_________________________________________________________________\n",
            "Layer (type)                 Output Shape              Param #   \n",
            "=================================================================\n",
            "Convolution (Conv2D)         (None, 98, 98, 32)        896       \n",
            "_________________________________________________________________\n",
            "Pooling (MaxPooling2D)       (None, 49, 49, 32)        0         \n",
            "_________________________________________________________________\n",
            "Convolution2 (Conv2D)        (None, 47, 47, 64)        18496     \n",
            "_________________________________________________________________\n",
            "Pooling2 (MaxPooling2D)      (None, 23, 23, 64)        0         \n",
            "_________________________________________________________________\n",
            "Convolution3 (Conv2D)        (None, 21, 21, 128)       73856     \n",
            "_________________________________________________________________\n",
            "Pooling3 (MaxPooling2D)      (None, 10, 10, 128)       0         \n",
            "_________________________________________________________________\n",
            "Flatten (Flatten)            (None, 12800)             0         \n",
            "_________________________________________________________________\n",
            "Dropout_1 (Dropout)          (None, 12800)             0         \n",
            "_________________________________________________________________\n",
            "Dense (Dense)                (None, 256)               3277056   \n",
            "_________________________________________________________________\n",
            "Dense2 (Dense)               (None, 3)                 771       \n",
            "=================================================================\n",
            "Total params: 3,371,075\n",
            "Trainable params: 3,371,075\n",
            "Non-trainable params: 0\n",
            "_________________________________________________________________\n",
            "INFO:tensorflow:Assets written to: chinese_mod/assets\n"
          ],
          "name": "stdout"
        },
        {
          "output_type": "execute_result",
          "data": {
            "image/png": "[encoded data removed]",
            "text/plain": [
              "<IPython.core.display.Image object>"
            ]
          },
          "metadata": {
            "tags": []
          },
          "execution_count": 4
        }
      ]
    },
    {
      "cell_type": "code",
      "metadata": {
        "colab": {
          "base_uri": "https://localhost:8080/"
        },
        "id": "Rc3tuVUwbGnn",
        "outputId": "64957e3b-34c8-4604-bcec-1f4379d5956e"
      },
      "source": [
        "total_train = train.shape[0]\n",
        "batch_size = 100\n",
        "\n",
        "\n",
        "train_datagen = ImageDataGenerator(\n",
        "    rotation_range=0,          #隨機轉換角度次數\n",
        "    rescale=1./255,             #正規化\n",
        "    shear_range=0.1,            #斜拉\n",
        "    zoom_range=0.2,             #放大縮小\n",
        "    horizontal_flip=False,       #隨機翻轉\n",
        "    width_shift_range=0,      #左右移動\n",
        "    height_shift_range=0,     #上下移動\n",
        "    validation_split=0.15\n",
        "    )   \n",
        "\n",
        "\n",
        "\n",
        "\n",
        "train_generator = train_datagen.flow_from_dataframe(\n",
        "    train,'/content/drive/MyDrive/DATA/Train_Image',x_col ='path',y_col ='label',target_size = (100,100),class_mode = 'raw',\n",
        "    batch_size = batch_size,\n",
        "    #subset = 'training'\n",
        "    \n",
        "    )\n",
        "\n",
        "\n",
        "\"\"\"\n",
        "validation_generator = train_datagen.flow_from_dataframe(\n",
        "    train,\n",
        "    '/content/drive/MyDrive/DATA/Train_Image',\n",
        "    x_col ='path',\n",
        "    y_col = 'label',\n",
        "    target_size = (100,100),\n",
        "    class_mode = 'raw',\n",
        "    batch_size = batch_size,\n",
        "    subset = 'validation'\n",
        ")\n",
        "\"\"\"\n",
        "\n",
        "\n",
        "\n",
        "\n",
        "epochs=20\n",
        "\n",
        "CNN.fit(\n",
        "    train_generator,\n",
        "    epochs=epochs,\n",
        "    #validation_data = validation_generator,\n",
        "    #steps_per_epoch = train_generator.samples,\n",
        "    #validation_steps = validation_generator.samples // batch_size,\n",
        "    )\n"
      ],
      "execution_count": 9,
      "outputs": [
        {
          "output_type": "stream",
          "text": [
            "Found 6130 validated image filenames.\n",
            "Epoch 1/20\n",
            "62/62 [==============================] - 104s 2s/step - loss: 0.2535 - accuracy: 0.9036\n",
            "Epoch 2/20\n",
            "62/62 [==============================] - 104s 2s/step - loss: 0.2438 - accuracy: 0.9054\n",
            "Epoch 3/20\n",
            "62/62 [==============================] - 104s 2s/step - loss: 0.2256 - accuracy: 0.9088\n",
            "Epoch 4/20\n",
            "62/62 [==============================] - 104s 2s/step - loss: 0.2373 - accuracy: 0.9055\n",
            "Epoch 5/20\n",
            "62/62 [==============================] - 104s 2s/step - loss: 0.2212 - accuracy: 0.9157\n",
            "Epoch 6/20\n",
            "62/62 [==============================] - 106s 2s/step - loss: 0.1932 - accuracy: 0.9248\n",
            "Epoch 7/20\n",
            "62/62 [==============================] - 106s 2s/step - loss: 0.1988 - accuracy: 0.9223\n",
            "Epoch 8/20\n",
            "62/62 [==============================] - 105s 2s/step - loss: 0.2005 - accuracy: 0.9248\n",
            "Epoch 9/20\n",
            "62/62 [==============================] - 104s 2s/step - loss: 0.1907 - accuracy: 0.9272\n",
            "Epoch 10/20\n",
            "62/62 [==============================] - 105s 2s/step - loss: 0.1794 - accuracy: 0.9307\n",
            "Epoch 11/20\n",
            "62/62 [==============================] - 105s 2s/step - loss: 0.1768 - accuracy: 0.9310\n",
            "Epoch 12/20\n",
            "62/62 [==============================] - 105s 2s/step - loss: 0.1679 - accuracy: 0.9398\n",
            "Epoch 13/20\n",
            "62/62 [==============================] - 106s 2s/step - loss: 0.1626 - accuracy: 0.9383\n",
            "Epoch 14/20\n",
            "62/62 [==============================] - 104s 2s/step - loss: 0.1505 - accuracy: 0.9471\n",
            "Epoch 15/20\n",
            "62/62 [==============================] - 103s 2s/step - loss: 0.1551 - accuracy: 0.9449\n",
            "Epoch 16/20\n",
            "62/62 [==============================] - 103s 2s/step - loss: 0.1571 - accuracy: 0.9403\n",
            "Epoch 17/20\n",
            "62/62 [==============================] - 104s 2s/step - loss: 0.1672 - accuracy: 0.9395\n",
            "Epoch 18/20\n",
            "62/62 [==============================] - 104s 2s/step - loss: 0.1415 - accuracy: 0.9509\n",
            "Epoch 19/20\n",
            "62/62 [==============================] - 103s 2s/step - loss: 0.1436 - accuracy: 0.9458\n",
            "Epoch 20/20\n",
            "62/62 [==============================] - 104s 2s/step - loss: 0.1447 - accuracy: 0.9455\n"
          ],
          "name": "stdout"
        },
        {
          "output_type": "execute_result",
          "data": {
            "text/plain": [
              "<tensorflow.python.keras.callbacks.History at 0x7f4c5038de90>"
            ]
          },
          "metadata": {
            "tags": []
          },
          "execution_count": 9
        }
      ]
    },
    {
      "cell_type": "markdown",
      "metadata": {
        "id": "mwoES2yzaeYH"
      },
      "source": [
        "預測分類"
      ]
    },
    {
      "cell_type": "code",
      "metadata": {
        "id": "7zPKk7VwcLGP",
        "colab": {
          "base_uri": "https://localhost:8080/",
          "height": 408
        },
        "outputId": "9bcb8345-0531-4338-f32c-293e618f60a3"
      },
      "source": [
        "mango_test = pd.read_csv('/content/drive/MyDrive/DATA/Test.csv')\n",
        "\n",
        "test_data = os.listdir('/content/drive/MyDrive/DATA/Test_Image')\n",
        "\n",
        "\n",
        "\n",
        "test_data.sort(key=lambda x:int(x[0:5]))\n",
        "\"\"\"\n",
        "del train_data[5266]\n",
        "del train_data[5267]\n",
        "del train_data[5268]\n",
        "del train_data[5269]\n",
        "del train_data[5270]\n",
        "del train_data[5271]\n",
        "del train_data[5272]\n",
        "del train_data[5273]\n",
        "del train_data[5274]\n",
        "del train_data[5275]\n",
        "\"\"\"\n",
        "\n",
        "\n",
        "\n",
        "test_target = mango_test['label']\n",
        "\n",
        "test = pd.DataFrame({'picture_name':test_data})\n",
        "test['label'] = test_target\n",
        "test['path'] = test['picture_name']\n",
        "\n",
        "labelencoder = LabelEncoder() \n",
        "test['label'] = labelencoder.fit_transform(test['label'])\n",
        "\n",
        "test\n"
      ],
      "execution_count": 24,
      "outputs": [
        {
          "output_type": "execute_result",
          "data": {
            "text/html": [
              "<div>\n",
              "<style scoped>\n",
              "    .dataframe tbody tr th:only-of-type {\n",
              "        vertical-align: middle;\n",
              "    }\n",
              "\n",
              "    .dataframe tbody tr th {\n",
              "        vertical-align: top;\n",
              "    }\n",
              "\n",
              "    .dataframe thead th {\n",
              "        text-align: right;\n",
              "    }\n",
              "</style>\n",
              "<table border=\"1\" class=\"dataframe\">\n",
              "  <thead>\n",
              "    <tr style=\"text-align: right;\">\n",
              "      <th></th>\n",
              "      <th>picture_name</th>\n",
              "      <th>label</th>\n",
              "      <th>path</th>\n",
              "    </tr>\n",
              "  </thead>\n",
              "  <tbody>\n",
              "    <tr>\n",
              "      <th>0</th>\n",
              "      <td>07686.jpg</td>\n",
              "      <td>2</td>\n",
              "      <td>07686.jpg</td>\n",
              "    </tr>\n",
              "    <tr>\n",
              "      <th>1</th>\n",
              "      <td>07687.jpg</td>\n",
              "      <td>1</td>\n",
              "      <td>07687.jpg</td>\n",
              "    </tr>\n",
              "    <tr>\n",
              "      <th>2</th>\n",
              "      <td>07688.jpg</td>\n",
              "      <td>2</td>\n",
              "      <td>07688.jpg</td>\n",
              "    </tr>\n",
              "    <tr>\n",
              "      <th>3</th>\n",
              "      <td>07689.jpg</td>\n",
              "      <td>0</td>\n",
              "      <td>07689.jpg</td>\n",
              "    </tr>\n",
              "    <tr>\n",
              "      <th>4</th>\n",
              "      <td>07690.jpg</td>\n",
              "      <td>0</td>\n",
              "      <td>07690.jpg</td>\n",
              "    </tr>\n",
              "    <tr>\n",
              "      <th>...</th>\n",
              "      <td>...</td>\n",
              "      <td>...</td>\n",
              "      <td>...</td>\n",
              "    </tr>\n",
              "    <tr>\n",
              "      <th>245</th>\n",
              "      <td>07995.jpg</td>\n",
              "      <td>2</td>\n",
              "      <td>07995.jpg</td>\n",
              "    </tr>\n",
              "    <tr>\n",
              "      <th>246</th>\n",
              "      <td>07996.jpg</td>\n",
              "      <td>0</td>\n",
              "      <td>07996.jpg</td>\n",
              "    </tr>\n",
              "    <tr>\n",
              "      <th>247</th>\n",
              "      <td>07998.jpg</td>\n",
              "      <td>0</td>\n",
              "      <td>07998.jpg</td>\n",
              "    </tr>\n",
              "    <tr>\n",
              "      <th>248</th>\n",
              "      <td>07999.jpg</td>\n",
              "      <td>0</td>\n",
              "      <td>07999.jpg</td>\n",
              "    </tr>\n",
              "    <tr>\n",
              "      <th>249</th>\n",
              "      <td>08000.jpg</td>\n",
              "      <td>1</td>\n",
              "      <td>08000.jpg</td>\n",
              "    </tr>\n",
              "  </tbody>\n",
              "</table>\n",
              "<p>250 rows × 3 columns</p>\n",
              "</div>"
            ],
            "text/plain": [
              "    picture_name  label       path\n",
              "0      07686.jpg      2  07686.jpg\n",
              "1      07687.jpg      1  07687.jpg\n",
              "2      07688.jpg      2  07688.jpg\n",
              "3      07689.jpg      0  07689.jpg\n",
              "4      07690.jpg      0  07690.jpg\n",
              "..           ...    ...        ...\n",
              "245    07995.jpg      2  07995.jpg\n",
              "246    07996.jpg      0  07996.jpg\n",
              "247    07998.jpg      0  07998.jpg\n",
              "248    07999.jpg      0  07999.jpg\n",
              "249    08000.jpg      1  08000.jpg\n",
              "\n",
              "[250 rows x 3 columns]"
            ]
          },
          "metadata": {
            "tags": []
          },
          "execution_count": 24
        }
      ]
    },
    {
      "cell_type": "code",
      "metadata": {
        "colab": {
          "base_uri": "https://localhost:8080/",
          "height": 425
        },
        "id": "exLC4BJGbqyF",
        "outputId": "2577acef-440b-4724-f0fe-6f753bd0c476"
      },
      "source": [
        "test_datagen = ImageDataGenerator(rescale=1./255)\n",
        "test_generator = test_datagen.flow_from_dataframe(\n",
        "    test,\n",
        "    '/content/drive/MyDrive/DATA/Test_Image',\n",
        "    x_col ='path',\n",
        "    y_col = None,\n",
        "    target_size = (100,100),\n",
        "    class_mode = None,\n",
        "    batch_size = 1,\n",
        "    shuffle=False\n",
        "    )\n",
        "test_predict = CNN.predict(test_generator) \n",
        "test['predict'] = np.argmax(test_predict, axis = 1).astype('str')\n",
        "test"
      ],
      "execution_count": 48,
      "outputs": [
        {
          "output_type": "stream",
          "text": [
            "Found 250 validated image filenames.\n"
          ],
          "name": "stdout"
        },
        {
          "output_type": "execute_result",
          "data": {
            "text/html": [
              "<div>\n",
              "<style scoped>\n",
              "    .dataframe tbody tr th:only-of-type {\n",
              "        vertical-align: middle;\n",
              "    }\n",
              "\n",
              "    .dataframe tbody tr th {\n",
              "        vertical-align: top;\n",
              "    }\n",
              "\n",
              "    .dataframe thead th {\n",
              "        text-align: right;\n",
              "    }\n",
              "</style>\n",
              "<table border=\"1\" class=\"dataframe\">\n",
              "  <thead>\n",
              "    <tr style=\"text-align: right;\">\n",
              "      <th></th>\n",
              "      <th>picture_name</th>\n",
              "      <th>label</th>\n",
              "      <th>path</th>\n",
              "      <th>predict</th>\n",
              "    </tr>\n",
              "  </thead>\n",
              "  <tbody>\n",
              "    <tr>\n",
              "      <th>0</th>\n",
              "      <td>07686.jpg</td>\n",
              "      <td>2</td>\n",
              "      <td>07686.jpg</td>\n",
              "      <td>2</td>\n",
              "    </tr>\n",
              "    <tr>\n",
              "      <th>1</th>\n",
              "      <td>07687.jpg</td>\n",
              "      <td>1</td>\n",
              "      <td>07687.jpg</td>\n",
              "      <td>1</td>\n",
              "    </tr>\n",
              "    <tr>\n",
              "      <th>2</th>\n",
              "      <td>07688.jpg</td>\n",
              "      <td>2</td>\n",
              "      <td>07688.jpg</td>\n",
              "      <td>0</td>\n",
              "    </tr>\n",
              "    <tr>\n",
              "      <th>3</th>\n",
              "      <td>07689.jpg</td>\n",
              "      <td>0</td>\n",
              "      <td>07689.jpg</td>\n",
              "      <td>0</td>\n",
              "    </tr>\n",
              "    <tr>\n",
              "      <th>4</th>\n",
              "      <td>07690.jpg</td>\n",
              "      <td>0</td>\n",
              "      <td>07690.jpg</td>\n",
              "      <td>0</td>\n",
              "    </tr>\n",
              "    <tr>\n",
              "      <th>...</th>\n",
              "      <td>...</td>\n",
              "      <td>...</td>\n",
              "      <td>...</td>\n",
              "      <td>...</td>\n",
              "    </tr>\n",
              "    <tr>\n",
              "      <th>245</th>\n",
              "      <td>07995.jpg</td>\n",
              "      <td>2</td>\n",
              "      <td>07995.jpg</td>\n",
              "      <td>0</td>\n",
              "    </tr>\n",
              "    <tr>\n",
              "      <th>246</th>\n",
              "      <td>07996.jpg</td>\n",
              "      <td>0</td>\n",
              "      <td>07996.jpg</td>\n",
              "      <td>0</td>\n",
              "    </tr>\n",
              "    <tr>\n",
              "      <th>247</th>\n",
              "      <td>07998.jpg</td>\n",
              "      <td>0</td>\n",
              "      <td>07998.jpg</td>\n",
              "      <td>0</td>\n",
              "    </tr>\n",
              "    <tr>\n",
              "      <th>248</th>\n",
              "      <td>07999.jpg</td>\n",
              "      <td>0</td>\n",
              "      <td>07999.jpg</td>\n",
              "      <td>0</td>\n",
              "    </tr>\n",
              "    <tr>\n",
              "      <th>249</th>\n",
              "      <td>08000.jpg</td>\n",
              "      <td>1</td>\n",
              "      <td>08000.jpg</td>\n",
              "      <td>2</td>\n",
              "    </tr>\n",
              "  </tbody>\n",
              "</table>\n",
              "<p>250 rows × 4 columns</p>\n",
              "</div>"
            ],
            "text/plain": [
              "    picture_name  label       path predict\n",
              "0      07686.jpg      2  07686.jpg       2\n",
              "1      07687.jpg      1  07687.jpg       1\n",
              "2      07688.jpg      2  07688.jpg       0\n",
              "3      07689.jpg      0  07689.jpg       0\n",
              "4      07690.jpg      0  07690.jpg       0\n",
              "..           ...    ...        ...     ...\n",
              "245    07995.jpg      2  07995.jpg       0\n",
              "246    07996.jpg      0  07996.jpg       0\n",
              "247    07998.jpg      0  07998.jpg       0\n",
              "248    07999.jpg      0  07999.jpg       0\n",
              "249    08000.jpg      1  08000.jpg       2\n",
              "\n",
              "[250 rows x 4 columns]"
            ]
          },
          "metadata": {
            "tags": []
          },
          "execution_count": 48
        }
      ]
    },
    {
      "cell_type": "code",
      "metadata": {
        "colab": {
          "base_uri": "https://localhost:8080/"
        },
        "id": "CUrIB17HcFuh",
        "outputId": "6bf92140-f544-4687-d565-f0b1d6ae9300"
      },
      "source": [
        "from sklearn import metrics \n",
        "test_predict = np.argmax(test_predict, axis = 1)\n",
        "\n",
        "test_target = test['label']\n",
        "\n",
        "\n",
        "print(test_predict)\n",
        "print(metrics.confusion_matrix(test_target, test_predict, labels=[0, 1])) \n",
        "print(metrics.classification_report(test_target, test_predict)) "
      ],
      "execution_count": 49,
      "outputs": [
        {
          "output_type": "stream",
          "text": [
            "[2 1 0 0 0 1 0 0 2 0 1 1 0 1 1 1 2 1 1 0 1 2 0 1 1 0 0 2 2 0 0 0 1 0 1 1 1\n",
            " 1 2 0 2 2 0 1 2 0 1 0 0 1 2 0 2 0 2 2 2 1 0 1 0 0 0 1 2 2 1 0 2 0 2 0 0 0\n",
            " 2 0 0 1 0 2 0 0 1 0 0 2 2 2 2 0 2 2 1 0 2 0 0 1 2 1 1 0 0 0 2 1 0 2 2 2 1\n",
            " 0 0 2 2 0 1 1 2 0 2 2 1 0 2 1 1 2 0 2 2 2 2 2 0 0 2 0 2 2 0 0 0 0 1 2 2 0\n",
            " 2 2 2 1 2 2 1 1 1 0 0 0 1 2 2 2 1 0 2 0 1 0 1 2 0 2 1 1 0 2 1 1 1 0 2 2 0\n",
            " 0 0 1 1 1 2 1 2 2 1 2 1 1 2 2 0 0 0 1 1 2 2 0 0 0 2 0 0 0 2 0 1 2 0 1 2 0\n",
            " 2 1 1 0 2 2 1 0 0 1 0 0 1 2 2 0 0 2 0 2 0 0 2 0 0 0 0 2]\n",
            "[[71  8]\n",
            " [24 54]]\n",
            "              precision    recall  f1-score   support\n",
            "\n",
            "           0       0.72      0.85      0.78        84\n",
            "           1       0.81      0.56      0.66        96\n",
            "           2       0.73      0.89      0.80        70\n",
            "\n",
            "    accuracy                           0.75       250\n",
            "   macro avg       0.75      0.76      0.75       250\n",
            "weighted avg       0.76      0.75      0.74       250\n",
            "\n"
          ],
          "name": "stdout"
        }
      ]
    },
    {
      "cell_type": "code",
      "metadata": {
        "id": "hHr6DuaWfx7Y"
      },
      "source": [
        ""
      ],
      "execution_count": null,
      "outputs": []
    }
  ]
}